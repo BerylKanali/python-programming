{
 "cells": [
  {
   "cell_type": "markdown",
   "metadata": {},
   "source": [
    "### most frequent word used"
   ]
  },
  {
   "cell_type": "code",
   "execution_count": 3,
   "metadata": {},
   "outputs": [
    {
     "name": "stdout",
     "output_type": "stream",
     "text": [
      "18577 2007\n",
      "14847 by\n",
      "14796 Received:\n",
      "13296 from\n",
      "11774 -0500\n"
     ]
    }
   ],
   "source": [
    "fhand = open('mbox.txt') \n",
    "counts = dict()  \n",
    "for line in fhand:   \n",
    "    words = line.split()\n",
    "    for word in words:        \n",
    "        counts[word] = counts.get(word, 0 ) + 1\n",
    "frequent_word=list()\n",
    "for a,b in counts.items():\n",
    "    frequent_word.append((b,a))\n",
    "frequent_word.sort(reverse=True)\n",
    "for b,a in frequent_word[:5]:\n",
    "    print(b,a)\n",
    "\n",
    "    "
   ]
  },
  {
   "cell_type": "markdown",
   "metadata": {},
   "source": [
    "### 10 most common emails and how many times they appear"
   ]
  },
  {
   "cell_type": "code",
   "execution_count": 4,
   "metadata": {},
   "outputs": [
    {
     "name": "stdout",
     "output_type": "stream",
     "text": [
      "[(29, 'stephen.marquard@uct.ac.za'), (1644, 'source@collab.sakaiproject.org'), (20, 'louis@media.berkeley.edu'), (165, 'zqian@umich.edu'), (79, 'rjlowe@iupui.edu'), (157, 'cwen@iupui.edu'), (24, 'gsilver@umich.edu'), (43, 'wagnermr@iupui.edu'), (18, 'antranig@caret.cam.ac.uk'), (25, 'gopal.ramasammycook@gmail.com'), (67, 'david.horwitz@uct.ac.za'), (21, 'ray@media.berkeley.edu'), (161, 'mmmay@indiana.edu'), (17, 'stuart.freeman@et.gatech.edu'), (6, 'tnguyen@iupui.edu'), (107, 'chmaurer@iupui.edu'), (82, 'aaronz@vt.edu'), (79, 'ian@caret.cam.ac.uk'), (19, 'csev@umich.edu'), (93, 'jimeng@umich.edu'), (28, 'josrodri@iupui.edu'), (5, 'knoop@umich.edu'), (24, 'bkirschn@umich.edu'), (72, 'dlhaines@umich.edu'), (7, 'hu2@iupui.edu'), (43, 'sgithens@caret.cam.ac.uk'), (27, 'arwhyte@umich.edu'), (3, 'gbhatnag@umich.edu'), (40, 'gjthomas@iupui.edu'), (14, 'a.fish@lancaster.ac.uk'), (41, 'ajpoland@iupui.edu'), (8, 'lance@indiana.edu'), (5, 'ssmail@indiana.edu'), (1, 'jlrenfro@ucdavis.edu'), (28, 'nuno@ufp.pt'), (14, 'zach.thomas@txstate.edu'), (8, 'ktsao@stanford.edu'), (17, 'ostermmg@whitman.edu'), (8, 'john.ellis@rsmart.com'), (2, 'jleasia@umich.edu'), (8, 'ggolden@umich.edu'), (1, 'thoppaymallika@fhda.edu'), (14, 'kimsooil@bu.edu'), (2, 'bahollad@indiana.edu'), (5, 'jzaremba@unicon.net'), (7, 'mbreuker@loi.nl')]\n"
     ]
    }
   ],
   "source": [
    "fhand=open(\"mbox.txt\")\n",
    "email=dict()\n",
    "for line in fhand:\n",
    "    line=line.strip()\n",
    "    if not line.startswith(\"From \"):\n",
    "        if not line.startswith(\"To:\"):\n",
    "            continue\n",
    "    words=line.split()\n",
    "    if words[1] not in email:\n",
    "        email[words[1]]=1\n",
    "    else:\n",
    "        email[words[1]]=email[words[1]]+1\n",
    "EMAIL=list()\n",
    "for a,b in email.items():\n",
    "     EMAIL.append( (b,a) )\n",
    "print(EMAIL)\n",
    "        \n",
    "        \n",
    "    "
   ]
  },
  {
   "cell_type": "code",
   "execution_count": 6,
   "metadata": {},
   "outputs": [
    {
     "name": "stdout",
     "output_type": "stream",
     "text": [
      "[(1644, 'source@collab.sakaiproject.org'), (165, 'zqian@umich.edu'), (161, 'mmmay@indiana.edu'), (157, 'cwen@iupui.edu'), (107, 'chmaurer@iupui.edu'), (93, 'jimeng@umich.edu'), (82, 'aaronz@vt.edu'), (79, 'rjlowe@iupui.edu'), (79, 'ian@caret.cam.ac.uk'), (72, 'dlhaines@umich.edu')]\n"
     ]
    }
   ],
   "source": [
    "EMAIL.sort(reverse=True)\n",
    "print(EMAIL[:10])"
   ]
  },
  {
   "cell_type": "code",
   "execution_count": null,
   "metadata": {},
   "outputs": [],
   "source": []
  }
 ],
 "metadata": {
  "kernelspec": {
   "display_name": "Python 3",
   "language": "python",
   "name": "python3"
  },
  "language_info": {
   "codemirror_mode": {
    "name": "ipython",
    "version": 3
   },
   "file_extension": ".py",
   "mimetype": "text/x-python",
   "name": "python",
   "nbconvert_exporter": "python",
   "pygments_lexer": "ipython3",
   "version": "3.7.3"
  }
 },
 "nbformat": 4,
 "nbformat_minor": 2
}
