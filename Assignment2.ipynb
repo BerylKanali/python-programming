{
 "cells": [
  {
   "cell_type": "markdown",
   "metadata": {},
   "source": [
    "### exercise1"
   ]
  },
  {
   "cell_type": "code",
   "execution_count": 2,
   "metadata": {},
   "outputs": [
    {
     "name": "stdout",
     "output_type": "stream",
     "text": [
      "enter number of hours30\n",
      "enter rate10\n",
      "your pay is 300.0\n"
     ]
    }
   ],
   "source": [
    "hours = int(input(\"enter number of hours\"))\n",
    "rate = float(input(\"enter rate\"))\n",
    "extra_rate= 1.5*rate\n",
    "if hours > 40:\n",
    "    extra_hours = hours-40\n",
    "    extra_pay= extra_rate*extra_hours\n",
    "    pay= (40*rate)+extra_pay\n",
    "    print(\"your pay is\",pay)\n",
    "else:\n",
    "    pay=hours * rate\n",
    "    print(\"your pay is\",pay)\n",
    "    "
   ]
  },
  {
   "cell_type": "markdown",
   "metadata": {},
   "source": [
    "### exercise2"
   ]
  },
  {
   "cell_type": "code",
   "execution_count": 5,
   "metadata": {},
   "outputs": [
    {
     "name": "stdout",
     "output_type": "stream",
     "text": [
      "enter number of hours2q\n",
      "Error,please enter numeric input\n"
     ]
    }
   ],
   "source": [
    "try:\n",
    "    hours = int(input(\"enter number of hours\"))\n",
    "    rate = float(input(\"enter rate\"))\n",
    "    extra_rate= 1.5*rate\n",
    "    if hours > 40:\n",
    "        extra_hours = hours-40\n",
    "        extra_pay= extra_rate*extra_hours\n",
    "        pay= (40*rate)+extra_pay\n",
    "        print(\"your pay is\",pay)\n",
    "    else:\n",
    "        pay=hours * rate\n",
    "        print(\"your pay is\",pay)\n",
    "except:\n",
    "    print(\"Error,please enter numeric input\")\n",
    "    "
   ]
  }
 ],
 "metadata": {
  "kernelspec": {
   "display_name": "Python 3",
   "language": "python",
   "name": "python3"
  },
  "language_info": {
   "codemirror_mode": {
    "name": "ipython",
    "version": 3
   },
   "file_extension": ".py",
   "mimetype": "text/x-python",
   "name": "python",
   "nbconvert_exporter": "python",
   "pygments_lexer": "ipython3",
   "version": "3.7.3"
  }
 },
 "nbformat": 4,
 "nbformat_minor": 2
}
