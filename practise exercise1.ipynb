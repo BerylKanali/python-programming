{
 "cells": [
  {
   "cell_type": "markdown",
   "metadata": {},
   "source": [
    "### question one"
   ]
  },
  {
   "cell_type": "code",
   "execution_count": 12,
   "metadata": {},
   "outputs": [
    {
     "name": "stdout",
     "output_type": "stream",
     "text": [
      "enter length45\n",
      "enter width45\n",
      "square\n"
     ]
    }
   ],
   "source": [
    "try:\n",
    "    Length= float(input(\"enter length\"))\n",
    "    Width = float(input(\"enter width\"))\n",
    "    if Length==Width:\n",
    "        print(\"square\")\n",
    "    else:\n",
    "        print(\"rectangle\")\n",
    "except:\n",
    "    print(\"you have not entered a numeric value\")"
   ]
  },
  {
   "cell_type": "markdown",
   "metadata": {},
   "source": [
    "### question two"
   ]
  },
  {
   "cell_type": "code",
   "execution_count": 15,
   "metadata": {},
   "outputs": [
    {
     "name": "stdout",
     "output_type": "stream",
     "text": [
      "enter the first value50\n",
      "enter the second value50\n",
      "50 and 50 are equal\n"
     ]
    }
   ],
   "source": [
    "try:\n",
    "    x = int(input(\"enter the first value\"))\n",
    "    y = int(input(\"enter the second value\"))\n",
    "    if x>y:\n",
    "        print(x,\"is greater than\",y)\n",
    "    elif x==y:\n",
    "        print(x,\"and\",y,\"are equal\")\n",
    "    else:\n",
    "        print( y,\"is greater than\",x)\n",
    "except:\n",
    "    print(\"you have not entered an integer\")"
   ]
  },
  {
   "cell_type": "markdown",
   "metadata": {},
   "source": [
    "### question three"
   ]
  },
  {
   "cell_type": "code",
   "execution_count": 35,
   "metadata": {},
   "outputs": [
    {
     "name": "stdout",
     "output_type": "stream",
     "text": [
      "enter quantity30\n",
      "your discount is 300.0\n",
      "your total cost is 2700.0\n"
     ]
    }
   ],
   "source": [
    "try:\n",
    "    quantity = int(input(\"enter quantity\"))\n",
    "    totalcost= quantity * 100\n",
    "    if totalcost <=1000:\n",
    "        discount= 0\n",
    "        print(\"your totalcost is\",totalcost)\n",
    "        print(\"your discount is\",discount)\n",
    "    else:\n",
    "        discount = totalcost * 0.1\n",
    "        total_cost=totalcost-discount\n",
    "        print(\"your discount is\",discount)\n",
    "        print(\"your total cost is\",total_cost)\n",
    "except:\n",
    "    print(\"you have not entered an integer\")"
   ]
  },
  {
   "cell_type": "markdown",
   "metadata": {},
   "source": [
    "### question four"
   ]
  },
  {
   "cell_type": "code",
   "execution_count": 4,
   "metadata": {},
   "outputs": [
    {
     "name": "stdout",
     "output_type": "stream",
     "text": [
      "enter your salarye344\n",
      "you have not entered a numeric value\n"
     ]
    }
   ],
   "source": [
    "try:\n",
    "    salary = int(input(\"enter your salary\"))\n",
    "    service_year= float(input(\"enter your year of service\"))\n",
    "    if service_year <= 5:\n",
    "        bonus = salary * 0.05\n",
    "        print(\"your net bonus is\",bonus)\n",
    "    elif service_year <10 :\n",
    "        bonus = salary * 0.1\n",
    "        print(\"your net bonus is\",bonus)\n",
    "    else:\n",
    "        bonus= salary * 0.15\n",
    "        print(\"your net bonus is\",bonus)\n",
    "except:\n",
    "    print(\"you have not entered a numeric value\")"
   ]
  },
  {
   "cell_type": "markdown",
   "metadata": {},
   "source": [
    "### question five"
   ]
  },
  {
   "cell_type": "code",
   "execution_count": 10,
   "metadata": {},
   "outputs": [
    {
     "name": "stdout",
     "output_type": "stream",
     "text": [
      "enter marks80.5\n",
      "A\n"
     ]
    }
   ],
   "source": [
    "try:\n",
    "    marks = float(input(\"enter marks\"))\n",
    "    if marks < 25:\n",
    "        print(\"F\")\n",
    "    elif marks < 45:\n",
    "        print(\"E\")\n",
    "    elif marks < 50:\n",
    "        print(\"D\")\n",
    "    elif marks < 60:\n",
    "        print(\"C\")\n",
    "    elif marks <= 80:\n",
    "        print(\"B\")\n",
    "    else:\n",
    "        print(\"A\")\n",
    "except:\n",
    "    print(\"you have not entered a numeric value\")"
   ]
  },
  {
   "cell_type": "markdown",
   "metadata": {},
   "source": [
    "### question 6"
   ]
  },
  {
   "cell_type": "code",
   "execution_count": 32,
   "metadata": {},
   "outputs": [
    {
     "name": "stdout",
     "output_type": "stream",
     "text": [
      "enter your age25\n",
      "enter your age45\n",
      "enter your agejk\n",
      "you have not entered a numeric value\n"
     ]
    }
   ],
   "source": [
    "try:\n",
    "    age1 = int(input(\"enter your age\"))\n",
    "    age2 = int(input(\"enter your age\"))\n",
    "    age3 = int(input(\"enter your age\"))\n",
    "    print(\"the oldest is\",max(age1,age2,age3),\"years old\")\n",
    "    print(\"the youngest is\",min(age1,age2,age3),\"years old\")\n",
    "except:\n",
    "    print(\"you have not entered a numeric value\")\n",
    "        "
   ]
  },
  {
   "cell_type": "markdown",
   "metadata": {},
   "source": [
    "### queston seven"
   ]
  },
  {
   "cell_type": "code",
   "execution_count": 16,
   "metadata": {},
   "outputs": [
    {
     "name": "stdout",
     "output_type": "stream",
     "text": [
      "enter number of classes held30\n",
      "enter number of classes attended25\n",
      "your attendance percentage is 83.33333333333334\n",
      "you are allowed to sit for the exams\n"
     ]
    }
   ],
   "source": [
    "try:\n",
    "    classes_held= float(input(\"enter number of classes held\"))\n",
    "    classes_attended = float(input(\"enter number of classes attended\"))\n",
    "    percentage_attended = (classes_attended/classes_held) *100\n",
    "    print(\"your attendance percentage is\",percentage_attended)\n",
    "    if percentage_attended < 75:\n",
    "        print(\"you are not allowed to sit for your exams\")\n",
    "    else:\n",
    "        print(\"you are allowed to sit for the exams\")\n",
    "except:\n",
    "    print(\"you have not entered a valid value\")\n",
    "        \n",
    "     \n"
   ]
  },
  {
   "cell_type": "markdown",
   "metadata": {},
   "source": [
    "### question eight"
   ]
  },
  {
   "cell_type": "code",
   "execution_count": 33,
   "metadata": {},
   "outputs": [
    {
     "name": "stdout",
     "output_type": "stream",
     "text": [
      "enter number of classes held30\n",
      "enter number of classes attended10\n",
      "your attendance percentage is 33.33333333333333\n",
      "do you have a medical causey\n",
      "you are allowed to sit for the exams\n"
     ]
    }
   ],
   "source": [
    "try:\n",
    "    classes_held= float(input(\"enter number of classes held\"))\n",
    "    classes_attended = float(input(\"enter number of classes attended\"))\n",
    "    percentage_attended = (classes_attended/classes_held) *100\n",
    "    print(\"your attendance percentage is\",percentage_attended)\n",
    "    medical_cause= input(\"do you have a medical cause\")\n",
    "    if medical_cause == 'y':\n",
    "        print(\"you are allowed to sit for the exams\")\n",
    "    elif percentage_attended < 75:\n",
    "        print(\"you are not allowed to sit for your exams\")\n",
    "    else:\n",
    "        print(\"you are allowed to sit for the exams\")\n",
    "except:\n",
    "    print(\"you have not entered a valid value\")\n",
    "        \n",
    "     \n"
   ]
  },
  {
   "cell_type": "code",
   "execution_count": null,
   "metadata": {},
   "outputs": [],
   "source": []
  }
 ],
 "metadata": {
  "kernelspec": {
   "display_name": "Python 3",
   "language": "python",
   "name": "python3"
  },
  "language_info": {
   "codemirror_mode": {
    "name": "ipython",
    "version": 3
   },
   "file_extension": ".py",
   "mimetype": "text/x-python",
   "name": "python",
   "nbconvert_exporter": "python",
   "pygments_lexer": "ipython3",
   "version": "3.7.3"
  }
 },
 "nbformat": 4,
 "nbformat_minor": 2
}
