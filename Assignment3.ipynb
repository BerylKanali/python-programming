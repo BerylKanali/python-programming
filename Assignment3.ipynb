{
 "cells": [
  {
   "cell_type": "code",
   "execution_count": 2,
   "metadata": {},
   "outputs": [],
   "source": [
    "def computepay(hours,rate):\n",
    "    extra_rate=1.5*rate\n",
    "    if hours > 40:\n",
    "        extra_hours=hours-40\n",
    "        extra_pay=extra_hours*extra_rate\n",
    "        pay=(40*rate)+extra_pay\n",
    "        print(\"your pay is\",pay)\n",
    "    else:\n",
    "        pay=hours*rate\n",
    "        print(\"your pay is\",pay)"
   ]
  },
  {
   "cell_type": "code",
   "execution_count": 5,
   "metadata": {},
   "outputs": [
    {
     "name": "stdout",
     "output_type": "stream",
     "text": [
      "your pay is 475.0\n"
     ]
    }
   ],
   "source": [
    "computepay(45,10)"
   ]
  },
  {
   "cell_type": "code",
   "execution_count": null,
   "metadata": {},
   "outputs": [],
   "source": []
  }
 ],
 "metadata": {
  "kernelspec": {
   "display_name": "Python 3",
   "language": "python",
   "name": "python3"
  },
  "language_info": {
   "codemirror_mode": {
    "name": "ipython",
    "version": 3
   },
   "file_extension": ".py",
   "mimetype": "text/x-python",
   "name": "python",
   "nbconvert_exporter": "python",
   "pygments_lexer": "ipython3",
   "version": "3.7.3"
  }
 },
 "nbformat": 4,
 "nbformat_minor": 2
}
